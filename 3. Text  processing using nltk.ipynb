{
 "cells": [
  {
   "cell_type": "code",
   "execution_count": null,
   "id": "35e3b2da",
   "metadata": {},
   "outputs": [],
   "source": [
    "implement email spam data\n",
    "a.Rename columns\n",
    "b.expand contractions\n",
    "c.Lower case\n",
    "d.Remove punctuations\n",
    "e"
   ]
  },
  {
   "cell_type": "code",
   "execution_count": null,
   "id": "88b95f21",
   "metadata": {},
   "outputs": [],
   "source": []
  },
  {
   "cell_type": "code",
   "execution_count": null,
   "id": "5dda1136",
   "metadata": {},
   "outputs": [],
   "source": [
    "#CONTRACTION IS SHORTENED FORM OF THE WORD, EX:DON'T,CAN'T\n",
    "#STOPWORDS:MOST COMMONLY OCCURINGG WORDS WITH NO VALUABLE INFO . EX: THE,A,THEY,THEM"
   ]
  },
  {
   "cell_type": "code",
   "execution_count": 1,
   "id": "20548212",
   "metadata": {},
   "outputs": [
    {
     "name": "stdout",
     "output_type": "stream",
     "text": [
      "                                                text spam\n",
      "0  Subject: naturally it's your irresistible your...    1\n",
      "1  Subject: the stock trading gunslinger  fanny i...    1\n",
      "2  Subject: unbelievable new homes made easy  im ...    1\n",
      "3  Subject: 4 color printing special  request add...    1\n",
      "4  Subject: do not have money , get software cds ...    1\n",
      "5  Subject: great nnews  hello , welcome to medzo...    1\n",
      "6  Subject: here ' s a hot play in motion  homela...    1\n",
      "7  Subject: save your money buy getting this thin...    1\n",
      "8  Subject: undeliverable : home based business f...    1\n",
      "9  Subject: save your money buy getting this thin...    1\n",
      "<class 'pandas.core.frame.DataFrame'>\n",
      "RangeIndex: 5730 entries, 0 to 5729\n",
      "Data columns (total 2 columns):\n",
      " #   Column  Non-Null Count  Dtype \n",
      "---  ------  --------------  ----- \n",
      " 0   text    5730 non-null   object\n",
      " 1   spam    5728 non-null   object\n",
      "dtypes: object(2)\n",
      "memory usage: 89.7+ KB\n",
      "None\n"
     ]
    }
   ],
   "source": [
    "import pandas as pd\n",
    "data=pd.read_csv('3,4.emails.csv',usecols=['text','spam'])#returns a subset of columns\n",
    "print(data.head(10))\n",
    "print(data.info())"
   ]
  },
  {
   "cell_type": "code",
   "execution_count": 11,
   "id": "a90d1923",
   "metadata": {},
   "outputs": [
    {
     "name": "stdout",
     "output_type": "stream",
     "text": [
      "<bound method NDFrame.head of                                                    text class\n",
      "0     Subject: naturally it's your irresistible your...     1\n",
      "1     Subject: the stock trading gunslinger  fanny i...     1\n",
      "2     Subject: unbelievable new homes made easy  im ...     1\n",
      "3     Subject: 4 color printing special  request add...     1\n",
      "4     Subject: do not have money , get software cds ...     1\n",
      "...                                                 ...   ...\n",
      "5725  Subject: re : research and development charges...     0\n",
      "5726  Subject: re : receipts from visit  jim ,  than...     0\n",
      "5727  Subject: re : enron case study update  wow ! a...     0\n",
      "5728  Subject: re : interest  david ,  please , call...     0\n",
      "5729  Subject: news : aurora 5 . 2 update  aurora ve...     0\n",
      "\n",
      "[5730 rows x 2 columns]>\n"
     ]
    }
   ],
   "source": [
    "data.rename(columns={'spam':'class'},inplace=True)\n",
    "print(data.head)"
   ]
  },
  {
   "cell_type": "code",
   "execution_count": null,
   "id": "90fe62a8",
   "metadata": {},
   "outputs": [],
   "source": [
    "df= pd.read"
   ]
  },
  {
   "cell_type": "markdown",
   "id": "2d856341",
   "metadata": {},
   "source": [
    "## 1.REname colums"
   ]
  },
  {
   "cell_type": "code",
   "execution_count": null,
   "id": "a4493ef8",
   "metadata": {},
   "outputs": [],
   "source": [
    "# Create a dictionary with the current colum nams as key and new names as values\n",
    "column_mapping= {'text':'Email Content',\n",
    "                'spam':'spam messages',\n",
    "                #add more columns as needed\n",
    "                }\n",
    "#use the rename method to rename columns\n",
    "df.renmae(columns=column_mapping,inplace=True)\n",
    "\n",
    "#save the dataframr back to csv file\n",
    "df\n"
   ]
  }
 ],
 "metadata": {
  "kernelspec": {
   "display_name": "Python 3 (ipykernel)",
   "language": "python",
   "name": "python3"
  },
  "language_info": {
   "codemirror_mode": {
    "name": "ipython",
    "version": 3
   },
   "file_extension": ".py",
   "mimetype": "text/x-python",
   "name": "python",
   "nbconvert_exporter": "python",
   "pygments_lexer": "ipython3",
   "version": "3.10.12"
  }
 },
 "nbformat": 4,
 "nbformat_minor": 5
}
